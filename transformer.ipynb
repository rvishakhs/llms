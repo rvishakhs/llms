{
 "cells": [
  {
   "cell_type": "code",
   "execution_count": 7,
   "metadata": {},
   "outputs": [
    {
     "name": "stdout",
     "output_type": "stream",
     "text": [
      "Requirement already satisfied: tiktoken in c:\\users\\visakh\\.pyenv\\pyenv-win\\versions\\3.12.7\\lib\\site-packages (0.9.0)\n",
      "Requirement already satisfied: regex>=2022.1.18 in c:\\users\\visakh\\.pyenv\\pyenv-win\\versions\\3.12.7\\lib\\site-packages (from tiktoken) (2024.11.6)\n",
      "Requirement already satisfied: requests>=2.26.0 in c:\\users\\visakh\\.pyenv\\pyenv-win\\versions\\3.12.7\\lib\\site-packages (from tiktoken) (2.32.3)\n",
      "Requirement already satisfied: charset-normalizer<4,>=2 in c:\\users\\visakh\\.pyenv\\pyenv-win\\versions\\3.12.7\\lib\\site-packages (from requests>=2.26.0->tiktoken) (3.4.1)\n",
      "Requirement already satisfied: idna<4,>=2.5 in c:\\users\\visakh\\.pyenv\\pyenv-win\\versions\\3.12.7\\lib\\site-packages (from requests>=2.26.0->tiktoken) (3.10)\n",
      "Requirement already satisfied: urllib3<3,>=1.21.1 in c:\\users\\visakh\\.pyenv\\pyenv-win\\versions\\3.12.7\\lib\\site-packages (from requests>=2.26.0->tiktoken) (2.3.0)\n",
      "Requirement already satisfied: certifi>=2017.4.17 in c:\\users\\visakh\\.pyenv\\pyenv-win\\versions\\3.12.7\\lib\\site-packages (from requests>=2.26.0->tiktoken) (2025.1.31)\n"
     ]
    },
    {
     "name": "stderr",
     "output_type": "stream",
     "text": [
      "\n",
      "[notice] A new release of pip is available: 24.2 -> 25.0.1\n",
      "[notice] To update, run: python.exe -m pip install --upgrade pip\n"
     ]
    }
   ],
   "source": [
    "! pip3 install tiktoken"
   ]
  },
  {
   "cell_type": "code",
   "execution_count": 4,
   "metadata": {},
   "outputs": [
    {
     "name": "stdout",
     "output_type": "stream",
     "text": [
      "2.6.0+cu126\n"
     ]
    }
   ],
   "source": [
    "import torch\n",
    "print(torch.__version__)"
   ]
  },
  {
   "cell_type": "code",
   "execution_count": 5,
   "metadata": {},
   "outputs": [
    {
     "data": {
      "text/plain": [
       "True"
      ]
     },
     "execution_count": 5,
     "metadata": {},
     "output_type": "execute_result"
    }
   ],
   "source": [
    "torch.cuda.is_available()"
   ]
  },
  {
   "cell_type": "code",
   "execution_count": 6,
   "metadata": {},
   "outputs": [
    {
     "data": {
      "text/plain": [
       "'NVIDIA GeForce RTX 4070 Ti SUPER'"
      ]
     },
     "execution_count": 6,
     "metadata": {},
     "output_type": "execute_result"
    }
   ],
   "source": [
    "torch.cuda.get_device_name(0)"
   ]
  },
  {
   "cell_type": "code",
   "execution_count": 8,
   "metadata": {},
   "outputs": [],
   "source": [
    "import importlib\n",
    "import tiktoken\n",
    "import torch\n",
    "import torch.nn as nn\n",
    "from torch.utils.data import Dataset, DataLoader"
   ]
  },
  {
   "cell_type": "code",
   "execution_count": 9,
   "metadata": {},
   "outputs": [],
   "source": [
    "# LLM COnfiguration\n",
    "GPT_CONFIG_124M = {\n",
    "    \"vocab_size\" : 50257,  # Vocabulary size\n",
    "    \"context_length\" : 1024,  # Context length\n",
    "    \"emb_dim\" : 768,   # Embedding dimension\n",
    "    \"n_heads\" : 12,   # Number of Attension heads\n",
    "    \"n_layers\" : 12,  # Number of Transformer layers\n",
    "    \"dropout_rate\" : 0.1,   # Dropout rate\n",
    "    \"qkv_bias\" : False   #Query-key-value bias\n",
    "}"
   ]
  },
  {
   "cell_type": "code",
   "execution_count": null,
   "metadata": {},
   "outputs": [],
   "source": []
  },
  {
   "cell_type": "code",
   "execution_count": 11,
   "metadata": {},
   "outputs": [],
   "source": [
    "class MultiHeadAttention(nn.Module):\n",
    "    def __init__(self, dim_input, dim_output, context_length,  num_heads, dropout_rate, qkv_bias):\n",
    "        super().__init__()\n",
    "        assert ( dim_output % num_heads == 0), \"dim_output must be divisible by num_heads\"\n",
    "        self.dim_output = dim_output\n",
    "        self.num_heads = num_heads\n",
    "        self.head_dim = dim_output // num_heads\n",
    "\n",
    "        # Initialize the weights\n",
    "        self.weight_query = nn.Linear(dim_input, dim_output, bias=qkv_bias)\n",
    "        self.weight_key = nn.Linear(dim_input, dim_output, bias=qkv_bias)\n",
    "        self.weight_value = nn.Linear(dim_input, dim_output, bias=qkv_bias)\n",
    "\n",
    "        self.out_projection = nn.Linear(dim_output, dim_output) # Linear layer to combine head outputs\n",
    "        self.dropout = nn.Dropout(dropout_rate)\n",
    "        self.register_buffer(\n",
    "            \"mask\",\n",
    "            torch.triu(torch.ones(context_length, context_length), diagonal=1)\n",
    "        )\n",
    "\n",
    "    def forward(self, x):\n",
    "        batch_size, num_tokens, dim_input = x.shape   # The input come in the shape of (batch_size, num_tokens, dim_input)\n",
    "\n",
    "        keys = self.weight_key(x)  # Shape (batch_size, num_tokens, dim_output)\n",
    "        queries = self.weight_query(x)\n",
    "        values = self.weight_value(x)\n",
    "\n",
    "        # We reshape the keys, queries and values to (batch_size, num_heads, num_tokens, head_dim)\n",
    "        # We implicitily split the matrix by adding a 'num_heads' dimension\n",
    "        # Unroll last dim: (b, num_tokens, d_out) -> (b, num_tokens, num_heads, head_dim)\n",
    "\n",
    "        keys = keys.view(batch_size, num_tokens, self.num_heads, self.head_dim)\n",
    "        queries = queries.view(batch_size, num_tokens, self.num_heads, self.head_dim)\n",
    "        values = values.view(batch_size, num_tokens, self.num_heads, self.head_dim)\n",
    "\n",
    "        # Transpose: (b, num_tokens, num_heads, head_dim) -> (b, num_heads, num_tokens, head_dim)\n",
    "        keys = keys.transpose(1, 2)\n",
    "        queries = queries.transpose(1, 2)\n",
    "        values = values.transpose(1, 2)\n",
    "\n",
    "        # Compute the attention scores\n",
    "        attention_scores = queries @ keys.transpose(2, 3)  # Dot product for each head\n",
    "\n",
    "        # Apply the mask to the attention scores \n",
    "        mask_bool = self.mask.bool()[:num_tokens, :num_tokens]\n",
    "\n",
    "        # Use the mask to fill the upper triangle of the attention scores with -inf\n",
    "        attention_scores.masked_fill(mask_bool, -torch.inf)\n",
    "\n",
    "        attension_weights = torch.softmax(attention_scores / keys.shape[-1] ** 0.5, dim=-1) # Scale the attention scores\n",
    "        attension_weights = self.dropout(attension_weights)\n",
    "\n",
    "        # Compute the attention output(context_vector)\n",
    "        # Shape (batch_size, num_heads, num_tokens, head_dim) -> (batch_size, num_tokens, num_heads, head_dim)\n",
    "        context_vector = (attension_weights @ values).transpose(1, 2) \n",
    "\n",
    "        # Combine heads, where self.dim_out = self.num_heads * self.head_dim\n",
    "        context_vector = context_vector.contiguous().view(batch_size, num_tokens, self.dim_output)\n",
    "        context_vector = self.out_projection(context_vector)   #Optional Projection\n",
    "\n",
    "        return context_vector\n",
    "    \n"
   ]
  },
  {
   "cell_type": "markdown",
   "metadata": {},
   "source": []
  },
  {
   "cell_type": "markdown",
   "metadata": {},
   "source": [
    "<div class=\"alert alert-block alert-info\">\n",
    "\n",
    "Step 1: Reduce the projection dim to match desired output dim\n",
    "\n",
    "Step 2: Use a Linear layer to combine head outputs\n",
    "\n",
    "Step 3: Tensor shape: (b, num_tokens, d_out)\n",
    "\n",
    "Step 4: We implicitly split the matrix by adding a `num_heads` dimension. Then we unroll last dim: (b,\n",
    "num_tokens, d_out) -> (b, num_tokens, num_heads, head_dim)\n",
    "\n",
    "Step 5: Transpose from shape (b, num_tokens, num_heads, head_dim) to (b, num_heads, num_tokens, head_dim)\n",
    "\n",
    "Step 6: Compute dot product for each head\n",
    "\n",
    "Step 7: Mask truncated to the number of tokens\n",
    "\n",
    "Step 8: Use the mask to fill attention scores\n",
    "\n",
    "Step 9: Tensor shape: (b, num_tokens, n_heads, head_dim)\n",
    "\n",
    "Step 10: Combine heads, where self.d_out = self.num_heads * self.head_dim\n",
    "\n",
    "Step 11: Add an optional linear projection\n",
    "</div>"
   ]
  },
  {
   "cell_type": "code",
   "execution_count": 12,
   "metadata": {},
   "outputs": [],
   "source": [
    "class GELU(nn.Module):\n",
    "    def __init__(self):\n",
    "        super().__init__()\n",
    "\n",
    "    def forward(self, x):\n",
    "        return 0.5 * x * (1 + torch.tanh(\n",
    "            torch.sqrt(torch.tensor(2.0 / torch.pi)) * \n",
    "            (x + 0.044715 * torch.pow(x, 3))\n",
    "        ))"
   ]
  },
  {
   "cell_type": "code",
   "execution_count": 13,
   "metadata": {},
   "outputs": [],
   "source": [
    "class FeedForward(nn.Module):\n",
    "    def __init__(self, config):\n",
    "        super().__init__()\n",
    "        self.layers = nn.Sequential(\n",
    "            nn.Linear(config['emb_dim'], 4 * config['emb_dim']), # Expanbding the demension 4x for better performance\n",
    "            GELU(), # Activation function \n",
    "            nn.Linear(4 * config['emb_dim'], config['emb_dim']) #Contacting the demension back to original\n",
    "        )\n",
    "    def forward(self, x): \n",
    "        return self.layers(x)"
   ]
  },
  {
   "cell_type": "code",
   "execution_count": 14,
   "metadata": {},
   "outputs": [],
   "source": [
    "class LayerNorm(nn.Module):\n",
    "    def __init__(self, dim_input):\n",
    "        super().__init__()\n",
    "        self.eps = 1e-5\n",
    "        self.scale = nn.Parameter(torch.ones(dim_input))\n",
    "        self.shift = nn.Parameter(torch.zeros(dim_input))\n",
    "\n",
    "    def forward(self, x):\n",
    "        mean = x.mean(dim=-1, keepdim=True)\n",
    "        varience = x.var(dim=-1, keepdim=True, unbiased=False)\n",
    "        norm_x = (x - mean) / torch.sqrt(varience + self.eps)\n",
    "\n",
    "        return self.scale * norm_x + self.shift"
   ]
  },
  {
   "cell_type": "code",
   "execution_count": null,
   "metadata": {},
   "outputs": [],
   "source": []
  },
  {
   "cell_type": "code",
   "execution_count": null,
   "metadata": {},
   "outputs": [],
   "source": [
    "class TransformerBlock(nn.Module):\n",
    "    def __init__(self, config):\n",
    "        super().__init__()\n",
    "        self.attention = MultiHeadAttention(\n",
    "            dim_input = config[\"emb_dim\"],\n",
    "            dim_output = config[\"emb_dim\"],\n",
    "            context_length = config[\"context_length\"],\n",
    "            num_heads = config[\"n_heads\"],\n",
    "            dropout_rate = config[\"dropout_rate\"],\n",
    "            qkv_bias = config[\"qkv_bias\"])\n",
    "        self.feed_forward = FeedForward(config),\n",
    "        self.layer_norm1 = LayerNorm(config[\"emb_dim\"]),\n",
    "        self.layer_norm2 = LayerNorm(config[\"emb_dim\"]),\n",
    "        self.drop_shortcut = nn.Dropout(config[\"dropout_rate\"])\n",
    "    \n",
    "    def forward(self, x):\n",
    "        # Shortcut connection for the attention block\n",
    "        shortcut = x\n",
    "        x = self.layer_norm1(x)\n",
    "        x = self.attention(x)  # Shape [batch_size, context_length, emb_dim]\n",
    "        x = self.drop_shortcut(x)\n",
    "        x = x + shortcut   # Adding the orginal input to the output for shortcut connection \n",
    "\n",
    "        # Shortcut connection for the feed forward block\n",
    "        shortcut = x\n",
    "        x = self.layer_norm2(x)\n",
    "        x = self.feed_forward(x)\n",
    "        x = self.drop_shortcut(x)\n",
    "        x = x + shortcut\n",
    "\n",
    "        return x\n",
    "\n"
   ]
  },
  {
   "cell_type": "code",
   "execution_count": null,
   "metadata": {},
   "outputs": [],
   "source": [
    "import torch\n",
    "import torch.nn as nn \n",
    "\n",
    "class GPT_Skeleton(nn.Module):\n",
    "    def __init__(self, config):\n",
    "        super().__init__()\n",
    "        self.token_embedding = nn.Embedding(config[\"vocab_size\"], config[\"emb_dim\"])\n",
    "        self.position_embedding = nn.Embedding(config[\"context_length\"], config[\"emb_dim\"])\n",
    "        self.dropout_embedding = nn.Dropout(config[\"dropout_rate\"])\n",
    "\n",
    "        self.transformer_blocks = nn.Sequential(\n",
    "            *[TransformerBlock(config) for _ in range(config[\"n_layers\"])]\n",
    "        )\n",
    "        self.final_norm_layer = LayerNorm(config[\"emb_dim\"])\n",
    "        self.out_head = nn.Linear(config[\"emb_dim\"], config[\"vocab_size\"], bias=False)\n",
    "\n",
    "    \n",
    "\n",
    "\n",
    "    def forward(self, input):\n",
    "        batch_size, num_tokens = input.shape\n",
    "        token_embedding = self.token_embedding(input) # Shape (batch_size, num_tokens, emb_dim)\n",
    "        positional_embedding = self.position_embedding(torch.arrange(num_tokens, device=input.device))\n",
    "        x = token_embedding + positional_embedding \n",
    "        x = self.dropout_embedding(x)  #Input Passing to the dropout Layer \n",
    "        x = self.transformer_blocks(x)  #Passing the input to the transformer blocks\n",
    "        x = self.final_norm_layer(x) #Final Layer Norm\n",
    "        logits = self.out_head(x)\n",
    "\n",
    "        return logits"
   ]
  },
  {
   "cell_type": "code",
   "execution_count": null,
   "metadata": {},
   "outputs": [],
   "source": [
    "torch.manual_seed(123)\n",
    "model = GPT_Skeleton(GPT_CONFIG_124M)\n",
    "out = model(batch)\n",
    "print(\"Input batch:\\n\", batch)\n",
    "print(\"\\nOutput shape:\", out.shape)\n",
    "print(out)"
   ]
  },
  {
   "cell_type": "code",
   "execution_count": null,
   "metadata": {},
   "outputs": [],
   "source": [
    "def text_generation(model, idx, max_new_tokens, context_size):\n",
    "    # idx is the input with the shape of (batch_size, num_tokens)\n",
    "    for _ in range(max_new_tokens):\n",
    "        # Crop current context if it exceeds the supported context size\n",
    "        # E.g., if LLM supports only 5 tokens, and the context size is 10\n",
    "        # then only the last 5 tokens are used as context\n",
    "        idx_crop = idx[:, -context_size:]\n",
    "\n",
    "        # Get the logits for the next token\n",
    "        with torch.no_grad():\n",
    "            logits = model(idx_crop)\n",
    "        # Focus only on the last time step\n",
    "        # (batch, n_tokens, vocab_size) becomes (batch, vocab_size)\n",
    "\n",
    "        logits = logits[:, -1, :]\n",
    "\n",
    "        # Apply softmax to get the probabilities\n",
    "        probs = torch.softmax(logits, dim=-1)    # (batch, vocab_size)\n",
    "\n",
    "        # Get the idx of the next token with higgest probability\n",
    "        idx_next = torch.argmax(probs, dim=-1) # (batch, 1)\n",
    "\n",
    "        # Append the new token to the input \n",
    "        idx = torch.cat((idx, idx_next), dim=1) # (batch, n_tokens+1)\n",
    "\n",
    "    return idx"
   ]
  },
  {
   "cell_type": "code",
   "execution_count": null,
   "metadata": {},
   "outputs": [],
   "source": []
  }
 ],
 "metadata": {
  "kernelspec": {
   "display_name": "Python 3",
   "language": "python",
   "name": "python3"
  },
  "language_info": {
   "codemirror_mode": {
    "name": "ipython",
    "version": 3
   },
   "file_extension": ".py",
   "mimetype": "text/x-python",
   "name": "python",
   "nbconvert_exporter": "python",
   "pygments_lexer": "ipython3",
   "version": "3.12.7"
  }
 },
 "nbformat": 4,
 "nbformat_minor": 2
}
